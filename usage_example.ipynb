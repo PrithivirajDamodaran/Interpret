{
 "cells": [
  {
   "cell_type": "code",
   "execution_count": 1,
   "metadata": {},
   "outputs": [],
   "source": [
    "import pickle\n",
    "\n",
    "from dataset import NewsDataset\n",
    "from model import DistilBertForSequenceClassification\n",
    "\n",
    "from smooth_gradient import SmoothGradient\n",
    "\n",
    "import torch\n",
    "from torch import nn\n",
    "from transformers import DistilBertConfig, DistilBertTokenizer\n",
    "\n",
    "from IPython.display import display, HTML"
   ]
  },
  {
   "cell_type": "code",
   "execution_count": 2,
   "metadata": {},
   "outputs": [
    {
     "name": "stderr",
     "output_type": "stream",
     "text": [
      "/home/vitaliy/anaconda3/envs/sqrt/lib/python3.8/site-packages/sklearn/base.py:329: UserWarning: Trying to unpickle estimator LabelEncoder from version 0.22.2.post1 when using version 0.23.1. This might lead to breaking code or invalid results. Use at your own risk.\n",
      "  warnings.warn(\n"
     ]
    }
   ],
   "source": [
    "config = DistilBertConfig()\n",
    "tokenizer = DistilBertTokenizer.from_pretrained(\"distilbert-base-uncased\")\n",
    "distilbert = DistilBertForSequenceClassification(config, num_labels=93)\n",
    "\n",
    "criterion = nn.CrossEntropyLoss()\n",
    "\n",
    "path = '/media/vitaliy/9C690A1791D68B8B/after/learningfolder/distilbert_medium_titles/distilbert.pth'\n",
    "\n",
    "if torch.cuda.is_available():\n",
    "    distilbert.load_state_dict(\n",
    "        torch.load(path)\n",
    "    )\n",
    "else:\n",
    "    distilbert.load_state_dict(\n",
    "        torch.load(path, map_location=torch.device('cpu'))\n",
    "    )\n",
    "    \n",
    "with open('../label_encoder.sklrn', 'rb') as f:\n",
    "    le = pickle.load(f)"
   ]
  },
  {
   "cell_type": "code",
   "execution_count": 3,
   "metadata": {},
   "outputs": [],
   "source": [
    "test_example = [\n",
    "    [\"Interpretation of HuggingFase's model decision\"], \n",
    "    [\"Transformer-based models have taken a leading role\"\n",
    "     \"in NLP today.\"]\n",
    "]\n",
    "\n",
    "test_dataset = NewsDataset(\n",
    "    data_list=test_example,\n",
    "    tokenizer=tokenizer,\n",
    "    max_length=config.max_position_embeddings, \n",
    "    one_example=True\n",
    ")"
   ]
  },
  {
   "cell_type": "code",
   "execution_count": 4,
   "metadata": {},
   "outputs": [],
   "source": [
    "smooth_grad = SmoothGradient(distilbert, criterion)\n",
    "instances = smooth_grad.saliency_interpret(test_dataset)"
   ]
  },
  {
   "cell_type": "code",
   "execution_count": 5,
   "metadata": {},
   "outputs": [
    {
     "data": {
      "text/html": [
       "<span class=\"barcode\"; style=\"color: black; background-color: #b0d2e7\"> [CLS]</span><span class=\"barcode\"; style=\"color: black; background-color: #f7fbff\"> interpretation</span><span class=\"barcode\"; style=\"color: black; background-color: #f7fbff\"> of</span><span class=\"barcode\"; style=\"color: black; background-color: #f3f8fe\"> hugging</span><span class=\"barcode\"; style=\"color: black; background-color: #f7fbff\">fa</span><span class=\"barcode\"; style=\"color: black; background-color: #eef5fc\">se</span><span class=\"barcode\"; style=\"color: black; background-color: #f6faff\"> '</span><span class=\"barcode\"; style=\"color: black; background-color: #f2f8fd\"> s</span><span class=\"barcode\"; style=\"color: black; background-color: #f5fafe\"> model</span><span class=\"barcode\"; style=\"color: black; background-color: #ebf3fb\"> decision</span><span class=\"barcode\"; style=\"color: black; background-color: #e9f2fa\"> [SEP]</span><span class=\"barcode\"; style=\"color: black; background-color: #f5fafe\"> transform</span><span class=\"barcode\"; style=\"color: black; background-color: #f5f9fe\">er</span><span class=\"barcode\"; style=\"color: black; background-color: #f5f9fe\"> -</span><span class=\"barcode\"; style=\"color: black; background-color: #f5fafe\"> based</span><span class=\"barcode\"; style=\"color: black; background-color: #f2f8fd\"> models</span><span class=\"barcode\"; style=\"color: black; background-color: #f2f8fd\"> have</span><span class=\"barcode\"; style=\"color: black; background-color: #f6faff\"> taken</span><span class=\"barcode\"; style=\"color: black; background-color: #f1f7fd\"> a</span><span class=\"barcode\"; style=\"color: black; background-color: #f2f8fd\"> leading</span><span class=\"barcode\"; style=\"color: black; background-color: #f5f9fe\"> role</span><span class=\"barcode\"; style=\"color: black; background-color: #f5f9fe\">in</span><span class=\"barcode\"; style=\"color: black; background-color: #edf4fc\"> nl</span><span class=\"barcode\"; style=\"color: black; background-color: #f6faff\">p</span><span class=\"barcode\"; style=\"color: black; background-color: #e9f2fa\"> today</span><span class=\"barcode\"; style=\"color: black; background-color: #eef5fc\"> .</span><span class=\"barcode\"; style=\"color: black; background-color: #eaf2fb\"> [SEP]</span><span class=\"barcode\"; style=\"color: black; background-color: 0\">    Label: 44 (</span><span class=\"barcode\"; style=\"color: black; background-color: #a7dba0\">35.90%</span>)"
      ],
      "text/plain": [
       "<IPython.core.display.HTML object>"
      ]
     },
     "metadata": {},
     "output_type": "display_data"
    }
   ],
   "source": [
    "coloder_string = smooth_grad.colorize(instances['instance_1'])\n",
    "display(HTML(coloder_string))"
   ]
  },
  {
   "cell_type": "code",
   "execution_count": 6,
   "metadata": {},
   "outputs": [
    {
     "name": "stdout",
     "output_type": "stream",
     "text": [
      "Converted label #44: machine-learning\n"
     ]
    }
   ],
   "source": [
    "label = instances['instance_1']['label_input_1']\n",
    "print(f\"Converted label #{label}: {le.inverse_transform([label])[0]}\")"
   ]
  }
 ],
 "metadata": {
  "kernelspec": {
   "display_name": "sqrt",
   "language": "python",
   "name": "sqrt"
  },
  "language_info": {
   "codemirror_mode": {
    "name": "ipython",
    "version": 3
   },
   "file_extension": ".py",
   "mimetype": "text/x-python",
   "name": "python",
   "nbconvert_exporter": "python",
   "pygments_lexer": "ipython3",
   "version": "3.8.3"
  }
 },
 "nbformat": 4,
 "nbformat_minor": 4
}
